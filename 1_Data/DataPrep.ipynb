{
 "cells": [
  {
   "cell_type": "code",
   "execution_count": null,
   "metadata": {},
   "outputs": [],
   "source": [
    "import h5py\n",
    "import datetime\n",
    "import pandas as pd\n",
    "\n",
    "START_DATE = '2012-08-13'\n",
    "END_DATE = '2017-08-11'\n",
    "DATE_FORMAT = '%Y-%m-%d'\n",
    "START_DATETIME = datetime.datetime.strptime(START_DATE, DATE_FORMAT)\n",
    "\n",
    "def read_stock_history(filepath):\n",
    "    \"\"\" Read data from extracted h5\n",
    "    Args:\n",
    "        filepath: path of file\n",
    "    Returns:\n",
    "        history:\n",
    "        abbreviation:\n",
    "    \"\"\"\n",
    "    with h5py.File(filepath, 'r') as f:\n",
    "        history = f['history'][:]\n",
    "        abbreviation = f['abbreviation'][:].tolist()\n",
    "        abbreviation = [abbr.decode('utf-8') for abbr in abbreviation]\n",
    "    return history, abbreviation\n",
    "\n",
    "def index_to_date(index):\n",
    "    return (START_DATETIME + datetime.timedelta(index)).strftime(DATE_FORMAT)\n",
    "\n",
    "def save_stock_data(stk,history,abbreviation):\n",
    "    p=abbreviation.index(stk)\n",
    "    h=history[p]\n",
    "    tData=[]\n",
    "    hData=['dt','open','low','high','close','vol']\n",
    "    for x in range(0,h.shape[0]):\n",
    "        row=[]\n",
    "        row.append(index_to_date(x))\n",
    "        v=h[x]\n",
    "        for y in range(0,len(v)):\n",
    "            row.append(v[y])\n",
    "        tData.append(row)    \n",
    "    df=pd.DataFrame(tData,columns=hData)\n",
    "    df.set_index(pd.DatetimeIndex(df['dt']), inplace=True)\n",
    "    del df['dt']\n",
    "    df.to_csv(stk+\".csv\")\n",
    "    print(\"store:\"+stk)\n",
    "    return df\n",
    "\n",
    "history, abbreviation=read_stock_history('stocks_history_target.h5')\n",
    "for stk in abbreviation:\n",
    "    save_stock_data(stk,history, abbreviation)"
   ]
  },
  {
   "cell_type": "code",
   "execution_count": null,
   "metadata": {},
   "outputs": [],
   "source": []
  }
 ],
 "metadata": {
  "kernelspec": {
   "display_name": "conda_tensorflow_p36",
   "language": "python",
   "name": "conda_tensorflow_p36"
  },
  "language_info": {
   "codemirror_mode": {
    "name": "ipython",
    "version": 3
   },
   "file_extension": ".py",
   "mimetype": "text/x-python",
   "name": "python",
   "nbconvert_exporter": "python",
   "pygments_lexer": "ipython3",
   "version": "3.6.5"
  }
 },
 "nbformat": 4,
 "nbformat_minor": 2
}
