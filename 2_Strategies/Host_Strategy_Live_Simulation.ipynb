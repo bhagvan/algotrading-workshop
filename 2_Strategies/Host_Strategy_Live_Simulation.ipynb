{
 "cells": [
  {
   "cell_type": "markdown",
   "metadata": {},
   "source": [
    "# Step 1) Select trading strategy\n",
    "\n",
    "This notebook requires that a container has been already deployed to ECR. Comment/uncomment the line in the following cell to select the trading strategy."
   ]
  },
  {
   "cell_type": "code",
   "execution_count": null,
   "metadata": {},
   "outputs": [],
   "source": [
    "algo_name='simple_sma'"
   ]
  },
  {
   "cell_type": "markdown",
   "metadata": {},
   "source": [
    "# Step 2) Host trading strategy in SageMaker"
   ]
  },
  {
   "cell_type": "code",
   "execution_count": null,
   "metadata": {},
   "outputs": [],
   "source": [
    "import sagemaker as sage\n",
    "from sagemaker.model import * \n",
    "\n",
    "model_name='algo_'+algo_name\n",
    "\n",
    "role = sage.get_execution_role()\n",
    "sess = sage.Session()\n",
    "account = sess.boto_session.client('sts').get_caller_identity()['Account']\n",
    "region = sess.boto_session.region_name\n",
    "image = ('{}.dkr.ecr.{}.amazonaws.com/'+model_name+':latest').format(account, region)\n",
    "\n",
    "prefix='algo_'+algo_name\n",
    "model_name_final=model_name.replace('_','-')+'-1'\n",
    "\n",
    "# create a new Model object\n",
    "m = Model(\n",
    "    image=image,\n",
    "    model_data='',\n",
    "    role=role,\n",
    "    name=model_name_final,\n",
    "    sagemaker_session=sess\n",
    ")\n",
    "m.deploy(1, 'ml.t2.medium')"
   ]
  },
  {
   "cell_type": "markdown",
   "metadata": {},
   "source": [
    "# Step 3) Create SQS queue for market data\n",
    "\n",
    "This queue receives market data updates."
   ]
  },
  {
   "cell_type": "code",
   "execution_count": null,
   "metadata": {},
   "outputs": [],
   "source": [
    "!aws sqs create-queue --queue-name algo_market_data_queue.fifo --attributes FifoQueue=true,ContentBasedDeduplication=true,ReceiveMessageWaitTimeSeconds=5"
   ]
  },
  {
   "cell_type": "markdown",
   "metadata": {},
   "source": [
    "# Step 4) Deploy Lambda function for market data\n",
    "\n",
    "This lambda function is called from trading strategy to pull new market data."
   ]
  },
  {
   "cell_type": "code",
   "execution_count": null,
   "metadata": {},
   "outputs": [],
   "source": [
    "%%writefile lambda_function.py\n",
    "import json\n",
    "import boto3\n",
    "import sys\n",
    "import time\n",
    "\n",
    "def lambda_handler(event, context):\n",
    "    list=[]\n",
    "    try:\n",
    "        sqs=boto3.resource('sqs')\n",
    "        queueIn=sqs.get_queue_by_name(QueueName='algo_market_data_queue.fifo')\n",
    "        for message in queueIn.receive_messages():\n",
    "            try:\n",
    "                print(\"msg:%s\" % message)\n",
    "                item=json.loads(message.body)\n",
    "                ret=json.dumps(item)\n",
    "                list.append(item)\n",
    "                print(\"ret:%s\" % ret)\n",
    "                message.delete()\n",
    "                print(\"msg deleted\")\n",
    "                break\n",
    "            except Exception as e:\n",
    "                print(\"err:%s\" % e)\n",
    "    except:\n",
    "        e = sys.exc_info()[0]\n",
    "        print(\"err:%s\" % e)\n",
    "        time.sleep(5)\n",
    "    return list"
   ]
  },
  {
   "cell_type": "code",
   "execution_count": null,
   "metadata": {},
   "outputs": [],
   "source": [
    "!zip -g function.zip lambda_function.py\n",
    "!aws lambda update-function-code --function-name algo_market_data --zip-file fileb://function.zip\n",
    "!aws lambda update-function-configuration --function-name algo_market_data --timeout 10"
   ]
  },
  {
   "cell_type": "markdown",
   "metadata": {},
   "source": [
    "# Step 5) Generate simulation data"
   ]
  },
  {
   "cell_type": "code",
   "execution_count": null,
   "metadata": {},
   "outputs": [],
   "source": [
    "!pip install backtrader"
   ]
  },
  {
   "cell_type": "code",
   "execution_count": null,
   "metadata": {},
   "outputs": [],
   "source": [
    "%run data_prep.py INTC\n",
    "\n",
    "import pandas as pd\n",
    "from model.algo_sim_feed import AlgoSimData\n",
    "\n",
    "df = pd.read_csv(\"../1_Data/INTC.csv\",infer_datetime_format=True, parse_dates=['dt'], index_col=['dt'])\n",
    "histFile='local_test/test_dir/input/data/training/data.csv'\n",
    "\n",
    "trainCount=int(len(df)*0.4)\n",
    "dfTest = df.iloc[trainCount:]\n",
    "dfTest.to_csv(histFile)\n",
    "\n",
    "simData = AlgoSimData(histFile)\n",
    "dfTest = simData.df"
   ]
  },
  {
   "cell_type": "code",
   "execution_count": null,
   "metadata": {},
   "outputs": [],
   "source": [
    "%matplotlib notebook\n",
    "dfTest[0].plot()"
   ]
  },
  {
   "cell_type": "markdown",
   "metadata": {},
   "source": [
    "# Step 6) Run live simulation against hosted strategy"
   ]
  },
  {
   "cell_type": "code",
   "execution_count": null,
   "metadata": {},
   "outputs": [],
   "source": [
    "import boto3\n",
    "import time\n",
    "\n",
    "sqs=boto3.resource('sqs')\n",
    "queue=sqs.get_queue_by_name(QueueName='algo_market_data_queue.fifo')\n",
    "\n",
    "def send_msg(m):\n",
    "    global queue\n",
    "    data=json.dumps(m)\n",
    "    print(\"msg=%s\" % data)\n",
    "    try:\n",
    "        response = queue.send_message(\n",
    "            MessageBody=data,\n",
    "            MessageGroupId='group1',\n",
    "        )\n",
    "        #print(\"ok:%s\" % response)\n",
    "    except Exception as e:\n",
    "        print(\"err:%s\" % e)\n",
    "        \n",
    "for idx,row in dfTest.iterrows():\n",
    "    dt=row['index'].strftime(\"%Y-%m-%d\")\n",
    "    close=row[0]\n",
    "    m={'date':dt, 'close':close}\n",
    "    send_msg(m)\n",
    "    time.sleep(1)"
   ]
  }
 ],
 "metadata": {
  "kernelspec": {
   "display_name": "conda_tensorflow_p36",
   "language": "python",
   "name": "conda_tensorflow_p36"
  },
  "language_info": {
   "codemirror_mode": {
    "name": "ipython",
    "version": 3
   },
   "file_extension": ".py",
   "mimetype": "text/x-python",
   "name": "python",
   "nbconvert_exporter": "python",
   "pygments_lexer": "ipython3",
   "version": "3.6.5"
  }
 },
 "nbformat": 4,
 "nbformat_minor": 2
}
