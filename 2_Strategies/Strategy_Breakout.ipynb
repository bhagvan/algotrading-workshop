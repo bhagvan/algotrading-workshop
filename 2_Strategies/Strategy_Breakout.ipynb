{
 "cells": [
  {
   "cell_type": "markdown",
   "metadata": {},
   "source": [
    "# Step 1) Data Preparation"
   ]
  },
  {
   "cell_type": "code",
   "execution_count": null,
   "metadata": {},
   "outputs": [],
   "source": [
    "%run data_prep.py INTC\n",
    "\n",
    "import pandas as pd\n",
    "\n",
    "df = pd.read_csv(\"../1_Data/INTC.csv\",infer_datetime_format=True, parse_dates=['dt'], index_col=['dt'])\n",
    "\n",
    "trainCount=int(len(df)*0.4)\n",
    "dfTrain = df.iloc[:trainCount]\n",
    "\n",
    "dfTest = df.iloc[trainCount:]\n",
    "dfTest.to_csv('local_test/test_dir/input/data/training/data.csv')\n",
    "dfTest.head()"
   ]
  },
  {
   "cell_type": "code",
   "execution_count": null,
   "metadata": {},
   "outputs": [],
   "source": [
    "%matplotlib notebook\n",
    "dfTest[\"close\"].plot()"
   ]
  },
  {
   "cell_type": "markdown",
   "metadata": {},
   "source": [
    "# Step 2) Modify Strategy Configuration \n",
    "\n",
    "In the following cell, you can adjust the parameters for the strategy.\n",
    "\n",
    "* `user` = Name for Leaderboard (optional)\n",
    "* `go_long` = Go Long for Breakout (true or false)\n",
    "* `go_short` = Go Short for Breakout (true or false)\n",
    "* `period` = Length of window for previous high and low\n",
    "* `size` = The number of shares for a transaction\n",
    "\n",
    "`Tip`: A good starting point for improving the strategy is to lengthen the period of the previous high and low. Equity Markets tend to have a long bias and if you only consider long trades this might improve the performance."
   ]
  },
  {
   "cell_type": "code",
   "execution_count": null,
   "metadata": {},
   "outputs": [],
   "source": [
    "%%writefile model/algo_config\n",
    "{ \"user\" : \"user\",\n",
    "  \"go_long\" : true,\n",
    "  \"go_short\" : true,\n",
    "  \"period\" : 9,\n",
    "  \"size\" : 1000\n",
    "}"
   ]
  },
  {
   "cell_type": "code",
   "execution_count": null,
   "metadata": {},
   "outputs": [],
   "source": [
    "%run update_config.py daily_breakout"
   ]
  },
  {
   "cell_type": "markdown",
   "metadata": {},
   "source": [
    "# Step 3) Modify Strategy Code\n",
    "\n",
    "`Tip`: A good starting point for improving the strategy is to add additional indicators like ATR (Average True Range) before placing a trade. You want to avoid false signals if there is not enough volatility.\n",
    "\n",
    "Here are some helpful links:\n",
    "* Backtrader Documentation: https://www.backtrader.com/docu/strategy/\n",
    "* TA-Lib Indicator Reference: https://www.backtrader.com/docu/talibindautoref/\n",
    "* Backtrader Indicator Reference: https://www.backtrader.com/docu/indautoref/"
   ]
  },
  {
   "cell_type": "code",
   "execution_count": null,
   "metadata": {},
   "outputs": [],
   "source": [
    "%%writefile model/algo_daily_breakout.py\n",
    "import backtrader as bt\n",
    "from algo_base import *\n",
    "import pytz\n",
    "from pytz import timezone\n",
    "\n",
    "class MyStrategy(StrategyTemplate):\n",
    "\n",
    "    def __init__(self):  # Initiation\n",
    "        super(MyStrategy, self).__init__()\n",
    "        self.highest = bt.ind.Highest(period=self.config[\"period\"])\n",
    "        self.lowest = bt.ind.Lowest(period=self.config[\"period\"])\n",
    "        self.size = self.config[\"size\"]\n",
    "\n",
    "    def next(self):  # Processing\n",
    "        super(MyStrategy, self).next()\n",
    "        dt=self.datas[0].datetime.datetime(0)\n",
    "        if not self.position:\n",
    "            if self.config[\"go_long\"] and self.datas[0] > self.highest[-1]:\n",
    "                self.buy(size=self.size) # Go long\n",
    "            elif self.config[\"go_short\"] and self.datas[0] < self.lowest[-1]:\n",
    "                self.sell(size=self.size) # Go short\n",
    "        elif self.position.size>0 and self.datas[0] < self.highest[-1]:\n",
    "            self.close()\n",
    "        elif self.position.size<0 and self.datas[0] > self.lowest[-1]:          \n",
    "            self.close()"
   ]
  },
  {
   "cell_type": "markdown",
   "metadata": {},
   "source": [
    "# Step 4) Backtest Locally (without submitting performance)\n",
    "\n",
    "**Please note that the initial docker image build may take up to 5 min. Subsequent runs are fast.**"
   ]
  },
  {
   "cell_type": "code",
   "execution_count": null,
   "metadata": {},
   "outputs": [],
   "source": [
    "#Build Local Algo Image\n",
    "!docker build -t algo_$(cat model/algo_name) .\n",
    "!docker run -v $(pwd)/local_test/test_dir:/opt/ml --rm algo_$(cat model/algo_name) train"
   ]
  },
  {
   "cell_type": "code",
   "execution_count": null,
   "metadata": {
    "scrolled": false
   },
   "outputs": [],
   "source": [
    "from IPython.display import Image\n",
    "Image(filename='local_test/test_dir/model/chart.png')"
   ]
  },
  {
   "cell_type": "markdown",
   "metadata": {},
   "source": [
    "## Refine your trading strategy (step 2 to 4). Once you are ready to submit the performance of your strategy, move on to the next step."
   ]
  },
  {
   "cell_type": "markdown",
   "metadata": {},
   "source": [
    "# Step 5) Run Simulation Backtest on SageMaker and submit performance\n",
    "\n",
    "**Please note that the backtest in SageMaker runs each time with a new simulated dataset to validate the performance of the strategy. Feel free to run it multiple times.**"
   ]
  },
  {
   "cell_type": "code",
   "execution_count": null,
   "metadata": {},
   "outputs": [],
   "source": [
    "#Deploy Algo Image to ECS\n",
    "!./build_and_push.sh"
   ]
  },
  {
   "cell_type": "code",
   "execution_count": null,
   "metadata": {},
   "outputs": [],
   "source": [
    "#Run Remote Backtesting via SageMaker\n",
    "import sagemaker as sage\n",
    "from sagemaker import get_execution_role\n",
    "from sagemaker.estimator import Estimator \n",
    "\n",
    "role = get_execution_role()\n",
    "sess = sage.Session()\n",
    "\n",
    "WORK_DIRECTORY = 'local_test/test_dir/input/data/training'\n",
    "data_location = sess.upload_data(WORK_DIRECTORY, key_prefix='data')\n",
    "print(data_location)\n",
    "\n",
    "with open('model/algo_config', 'r') as f:\n",
    "    config = json.load(f)\n",
    "algo_name=config['algo_name']\n",
    "\n",
    "config['sim_data']=True\n",
    "\n",
    "prefix='algo_'+algo_name\n",
    "job_name=prefix.replace('_','-')\n",
    "\n",
    "account = sess.boto_session.client('sts').get_caller_identity()['Account']\n",
    "region = sess.boto_session.region_name\n",
    "image = f'{account}.dkr.ecr.{region}.amazonaws.com/{prefix}:latest'\n",
    "\n",
    "algo = sage.estimator.Estimator(\n",
    "    image_name=image,\n",
    "    role=role,\n",
    "    train_instance_count=1,\n",
    "    train_instance_type='ml.m4.xlarge',\n",
    "    output_path=\"s3://{}/output\".format(sess.default_bucket()),\n",
    "    sagemaker_session=sess,\n",
    "    base_job_name=job_name,\n",
    "    hyperparameters=config,\n",
    "    metric_definitions=[\n",
    "        {\n",
    "            \"Name\": \"algo:pnl\",\n",
    "            \"Regex\": \"Total PnL:(.*?)]\"\n",
    "        },\n",
    "        {\n",
    "            \"Name\": \"algo:sharpe_ratio\",\n",
    "            \"Regex\": \"Sharpe Ratio:(.*?),\"\n",
    "        }\n",
    "    ])\n",
    "algo.fit(data_location)"
   ]
  },
  {
   "cell_type": "code",
   "execution_count": null,
   "metadata": {},
   "outputs": [],
   "source": [
    "#Get Algo Metrics\n",
    "from sagemaker.analytics import TrainingJobAnalytics\n",
    "\n",
    "latest_job_name = algo.latest_training_job.job_name\n",
    "metrics_dataframe = TrainingJobAnalytics(training_job_name=latest_job_name).dataframe()\n",
    "metrics_dataframe"
   ]
  },
  {
   "cell_type": "code",
   "execution_count": null,
   "metadata": {
    "scrolled": true
   },
   "outputs": [],
   "source": [
    "#Get Algo Chart from S3\n",
    "model_name=algo.model_data.replace('s3://'+sess.default_bucket()+'/','')\n",
    "import boto3\n",
    "s3 = boto3.resource('s3')\n",
    "my_bucket = s3.Bucket(sess.default_bucket())\n",
    "my_bucket.download_file(model_name,'model.tar.gz')\n",
    "!tar -xzf model.tar.gz\n",
    "!rm model.tar.gz\n",
    "from IPython.display import Image\n",
    "Image(filename='chart.png') "
   ]
  },
  {
   "cell_type": "markdown",
   "metadata": {},
   "source": [
    "### Congratulations! You've completed this strategy. Verify your submission on the leaderboard."
   ]
  },
  {
   "cell_type": "code",
   "execution_count": null,
   "metadata": {},
   "outputs": [],
   "source": [
    "%run leaderboard.py"
   ]
  }
 ],
 "metadata": {
  "kernelspec": {
   "display_name": "conda_tensorflow_p36",
   "language": "python",
   "name": "conda_tensorflow_p36"
  },
  "language_info": {
   "codemirror_mode": {
    "name": "ipython",
    "version": 3
   },
   "file_extension": ".py",
   "mimetype": "text/x-python",
   "name": "python",
   "nbconvert_exporter": "python",
   "pygments_lexer": "ipython3",
   "version": "3.6.5"
  }
 },
 "nbformat": 4,
 "nbformat_minor": 2
}
